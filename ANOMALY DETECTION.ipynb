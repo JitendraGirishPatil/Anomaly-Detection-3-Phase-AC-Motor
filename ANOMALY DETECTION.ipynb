{
 "cells": [
  {
   "cell_type": "markdown",
   "id": "260f9b30",
   "metadata": {},
   "source": [
    "# <center><div class=\"alert alert-info\">ANOMALY DETECTION FOR 3-PHASE AC MOTOR</div>\n",
    "## <center>Submitted By - Jitendra Girish Patil</div>"
   ]
  },
  {
   "cell_type": "markdown",
   "id": "1693ad09",
   "metadata": {},
   "source": [
    "## Problem Statement"
   ]
  },
  {
   "cell_type": "markdown",
   "id": "e0992d18",
   "metadata": {},
   "source": [
    "Data set contains real-time current readings of a 3-phase AC motor (3.2hp) \n",
    "motor current signature analysis and model-based VI analysis to be done to detect anomalies \n",
    "\n",
    "Detect anomaly and alert defects from an unstructured data pool received from current and voltage sensors of a 3-phase induction motor (Medium Voltage) at a rate of 10K - 15K instances per second. "
   ]
  },
  {
   "cell_type": "markdown",
   "id": "8e11e75f",
   "metadata": {},
   "source": [
    "### <center><div class=\"alert alert-info\">IMPORTING LIBRARIES</div>"
   ]
  },
  {
   "cell_type": "code",
   "execution_count": 1,
   "id": "099da93e",
   "metadata": {},
   "outputs": [],
   "source": [
    "import pandas as pd\n",
    "import numpy as np\n",
    "import matplotlib.pyplot as plt\n",
    "from sklearn.preprocessing import StandardScaler"
   ]
  },
  {
   "cell_type": "markdown",
   "id": "0c15b741",
   "metadata": {},
   "source": [
    "### <center><div class=\"alert alert-info\">IMPORTING THE DATA</div>"
   ]
  },
  {
   "cell_type": "code",
   "execution_count": 2,
   "id": "392b0bfc",
   "metadata": {},
   "outputs": [],
   "source": [
    "df1 = pd.read_csv('data112.txt', delimiter=',', header=None).T\n",
    "# df2 = pd.read_csv('data0 (1).txt', delimiter=',', header=None).T\n",
    "# df3 = pd.read_csv('data109.txt', delimiter=',', header=None).T\n",
    "# df4 = pd.read_csv('data88.txt', delimiter=',', header=None).T\n",
    "# df5 = pd.read_csv('data89.txt', delimiter=',', header=None).T\n",
    "# df6 = pd.read_csv('data89.txt', delimiter=',', header=None).T"
   ]
  },
  {
   "cell_type": "markdown",
   "id": "1c0bc26d",
   "metadata": {},
   "source": [
    "### In the data set file i have changed 2 values in 0 and 3rd index. The Value is 12000 to check anomaly detection."
   ]
  },
  {
   "cell_type": "markdown",
   "id": "d4d68ab1",
   "metadata": {},
   "source": [
    "### <center><div class=\"alert alert-info\">DATA EXPLORATION</div>"
   ]
  },
  {
   "cell_type": "code",
   "execution_count": 3,
   "id": "69a4078b",
   "metadata": {},
   "outputs": [],
   "source": [
    "from simple_colors import *\n",
    "\n",
    "def details(data):\n",
    "    print(green(f'Shape of the Data Set : \\n', 'bold'))\n",
    "    print(f'{data.shape}')                                                  # checking shape\n",
    "    print('---------------------------------------------------')\n",
    "    print()\n",
    "    print(green(f'Information of the Data Set : \\n', 'bold'))\n",
    "    print(f'{data.info()}')                                                 # checking information\n",
    "    print('---------------------------------------------------')\n",
    "    print()\n",
    "    print(green(f'Description of the Data Set : \\n', 'bold'))\n",
    "    print(f'{data.describe()}')                                             # checking description\n",
    "    print('---------------------------------------------------')"
   ]
  },
  {
   "cell_type": "code",
   "execution_count": 4,
   "id": "b5e1539c",
   "metadata": {},
   "outputs": [
    {
     "name": "stdout",
     "output_type": "stream",
     "text": [
      "\u001b[1;32mShape of the Data Set : \n",
      "\u001b[0m\n",
      "(10001, 1)\n",
      "---------------------------------------------------\n",
      "\n",
      "\u001b[1;32mInformation of the Data Set : \n",
      "\u001b[0m\n",
      "<class 'pandas.core.frame.DataFrame'>\n",
      "Int64Index: 10001 entries, 0 to 10000\n",
      "Data columns (total 1 columns):\n",
      " #   Column  Non-Null Count  Dtype  \n",
      "---  ------  --------------  -----  \n",
      " 0   0       10000 non-null  float64\n",
      "dtypes: float64(1)\n",
      "memory usage: 156.3 KB\n",
      "None\n",
      "---------------------------------------------------\n",
      "\n",
      "\u001b[1;32mDescription of the Data Set : \n",
      "\u001b[0m\n",
      "                   0\n",
      "count   10000.000000\n",
      "mean       26.980000\n",
      "std      1200.857053\n",
      "min         0.000000\n",
      "25%         0.000000\n",
      "50%         0.000000\n",
      "75%         0.000000\n",
      "max    120000.000000\n",
      "---------------------------------------------------\n"
     ]
    }
   ],
   "source": [
    "details(df1)           # details of train data"
   ]
  },
  {
   "cell_type": "markdown",
   "id": "b0a9f3b2",
   "metadata": {},
   "source": [
    "### <center><div class=\"alert alert-info\">DATA PREPROCESSING</div>"
   ]
  },
  {
   "cell_type": "markdown",
   "id": "311d2feb",
   "metadata": {},
   "source": [
    "## Missing Value Treatment"
   ]
  },
  {
   "cell_type": "code",
   "execution_count": 5,
   "id": "784264b2",
   "metadata": {},
   "outputs": [
    {
     "data": {
      "text/plain": [
       "1    1\n",
       "dtype: int64"
      ]
     },
     "execution_count": 5,
     "metadata": {},
     "output_type": "execute_result"
    }
   ],
   "source": [
    "# Checking the null values Count\n",
    "df1.isnull().sum().value_counts()"
   ]
  },
  {
   "cell_type": "code",
   "execution_count": 6,
   "id": "4eccec92",
   "metadata": {},
   "outputs": [
    {
     "data": {
      "text/html": [
       "<div>\n",
       "<style scoped>\n",
       "    .dataframe tbody tr th:only-of-type {\n",
       "        vertical-align: middle;\n",
       "    }\n",
       "\n",
       "    .dataframe tbody tr th {\n",
       "        vertical-align: top;\n",
       "    }\n",
       "\n",
       "    .dataframe thead th {\n",
       "        text-align: right;\n",
       "    }\n",
       "</style>\n",
       "<table border=\"1\" class=\"dataframe\">\n",
       "  <thead>\n",
       "    <tr style=\"text-align: right;\">\n",
       "      <th></th>\n",
       "      <th>0</th>\n",
       "    </tr>\n",
       "  </thead>\n",
       "  <tbody>\n",
       "    <tr>\n",
       "      <th>0</th>\n",
       "      <td>120000.0</td>\n",
       "    </tr>\n",
       "    <tr>\n",
       "      <th>1</th>\n",
       "      <td>0.0</td>\n",
       "    </tr>\n",
       "    <tr>\n",
       "      <th>2</th>\n",
       "      <td>0.0</td>\n",
       "    </tr>\n",
       "    <tr>\n",
       "      <th>3</th>\n",
       "      <td>120.0</td>\n",
       "    </tr>\n",
       "    <tr>\n",
       "      <th>4</th>\n",
       "      <td>0.0</td>\n",
       "    </tr>\n",
       "    <tr>\n",
       "      <th>...</th>\n",
       "      <td>...</td>\n",
       "    </tr>\n",
       "    <tr>\n",
       "      <th>9995</th>\n",
       "      <td>0.0</td>\n",
       "    </tr>\n",
       "    <tr>\n",
       "      <th>9996</th>\n",
       "      <td>248.0</td>\n",
       "    </tr>\n",
       "    <tr>\n",
       "      <th>9997</th>\n",
       "      <td>0.0</td>\n",
       "    </tr>\n",
       "    <tr>\n",
       "      <th>9998</th>\n",
       "      <td>0.0</td>\n",
       "    </tr>\n",
       "    <tr>\n",
       "      <th>9999</th>\n",
       "      <td>0.0</td>\n",
       "    </tr>\n",
       "  </tbody>\n",
       "</table>\n",
       "<p>10000 rows × 1 columns</p>\n",
       "</div>"
      ],
      "text/plain": [
       "             0\n",
       "0     120000.0\n",
       "1          0.0\n",
       "2          0.0\n",
       "3        120.0\n",
       "4          0.0\n",
       "...        ...\n",
       "9995       0.0\n",
       "9996     248.0\n",
       "9997       0.0\n",
       "9998       0.0\n",
       "9999       0.0\n",
       "\n",
       "[10000 rows x 1 columns]"
      ]
     },
     "execution_count": 6,
     "metadata": {},
     "output_type": "execute_result"
    }
   ],
   "source": [
    "x = df1.dropna()          # As there is only 1 missing value in the data set of 100000, We can drop the row.\n",
    "x"
   ]
  },
  {
   "cell_type": "markdown",
   "id": "019174cd",
   "metadata": {},
   "source": [
    "## Feature Scaling\n",
    "\n",
    "- As the Values in row have wide range of variety, Standardisation is done as it makes the training faster and makes it easy for a model to learn and understand the problem."
   ]
  },
  {
   "cell_type": "code",
   "execution_count": 9,
   "id": "d522234a",
   "metadata": {
    "scrolled": false
   },
   "outputs": [
    {
     "data": {
      "text/html": [
       "<div>\n",
       "<style scoped>\n",
       "    .dataframe tbody tr th:only-of-type {\n",
       "        vertical-align: middle;\n",
       "    }\n",
       "\n",
       "    .dataframe tbody tr th {\n",
       "        vertical-align: top;\n",
       "    }\n",
       "\n",
       "    .dataframe thead th {\n",
       "        text-align: right;\n",
       "    }\n",
       "</style>\n",
       "<table border=\"1\" class=\"dataframe\">\n",
       "  <thead>\n",
       "    <tr style=\"text-align: right;\">\n",
       "      <th></th>\n",
       "      <th>0</th>\n",
       "    </tr>\n",
       "  </thead>\n",
       "  <tbody>\n",
       "    <tr>\n",
       "      <th>0</th>\n",
       "      <td>99.911158</td>\n",
       "    </tr>\n",
       "    <tr>\n",
       "      <th>1</th>\n",
       "      <td>-0.022468</td>\n",
       "    </tr>\n",
       "    <tr>\n",
       "      <th>2</th>\n",
       "      <td>-0.022468</td>\n",
       "    </tr>\n",
       "    <tr>\n",
       "      <th>3</th>\n",
       "      <td>0.077465</td>\n",
       "    </tr>\n",
       "    <tr>\n",
       "      <th>4</th>\n",
       "      <td>-0.022468</td>\n",
       "    </tr>\n",
       "    <tr>\n",
       "      <th>...</th>\n",
       "      <td>...</td>\n",
       "    </tr>\n",
       "    <tr>\n",
       "      <th>9995</th>\n",
       "      <td>-0.022468</td>\n",
       "    </tr>\n",
       "    <tr>\n",
       "      <th>9996</th>\n",
       "      <td>0.184061</td>\n",
       "    </tr>\n",
       "    <tr>\n",
       "      <th>9997</th>\n",
       "      <td>-0.022468</td>\n",
       "    </tr>\n",
       "    <tr>\n",
       "      <th>9998</th>\n",
       "      <td>-0.022468</td>\n",
       "    </tr>\n",
       "    <tr>\n",
       "      <th>9999</th>\n",
       "      <td>-0.022468</td>\n",
       "    </tr>\n",
       "  </tbody>\n",
       "</table>\n",
       "<p>10000 rows × 1 columns</p>\n",
       "</div>"
      ],
      "text/plain": [
       "              0\n",
       "0     99.911158\n",
       "1     -0.022468\n",
       "2     -0.022468\n",
       "3      0.077465\n",
       "4     -0.022468\n",
       "...         ...\n",
       "9995  -0.022468\n",
       "9996   0.184061\n",
       "9997  -0.022468\n",
       "9998  -0.022468\n",
       "9999  -0.022468\n",
       "\n",
       "[10000 rows x 1 columns]"
      ]
     },
     "execution_count": 9,
     "metadata": {},
     "output_type": "execute_result"
    }
   ],
   "source": [
    "numerics = ['int16','int32','int64']\n",
    "scaler = StandardScaler()                             # stadardising the values\n",
    "scaled = pd.DataFrame(scaler.fit_transform(x), columns=x.columns)\n",
    "scaled"
   ]
  },
  {
   "cell_type": "markdown",
   "id": "e98c3f77",
   "metadata": {},
   "source": [
    "### <center><div class=\"alert alert-success\">MODEL BUILDING USING LOCAL OUTLIER FACTOR</div>"
   ]
  },
  {
   "cell_type": "code",
   "execution_count": 10,
   "id": "c948100f",
   "metadata": {},
   "outputs": [
    {
     "name": "stdout",
     "output_type": "stream",
     "text": [
      "[-1  1  1 ...  1  1  1]\n"
     ]
    }
   ],
   "source": [
    "from sklearn.neighbors import LocalOutlierFactor\n",
    "\n",
    "# Create the KNN anomaly detector\n",
    "clf = LocalOutlierFactor(n_neighbors=2, contamination=0.1)\n",
    "\n",
    "# Fit the detector to the data\n",
    "clf.fit(scaled)\n",
    "\n",
    "# Use the detector to predict which data points are anomalies\n",
    "y_pred = clf.fit_predict(scaled)\n",
    "\n",
    "# Print the predictions\n",
    "print(y_pred)"
   ]
  },
  {
   "cell_type": "code",
   "execution_count": 11,
   "id": "e2df9f2c",
   "metadata": {},
   "outputs": [
    {
     "data": {
      "text/plain": [
       "array([-1,  1])"
      ]
     },
     "execution_count": 11,
     "metadata": {},
     "output_type": "execute_result"
    }
   ],
   "source": [
    "# Gettin Unique Value for y_pred\n",
    "# This is done because we are checking if there are anomaly in the data set or not. \n",
    "# If the value comes -1 it means anomaly is present\n",
    "\n",
    "np.unique(y_pred)"
   ]
  },
  {
   "cell_type": "code",
   "execution_count": 12,
   "id": "9602b935",
   "metadata": {},
   "outputs": [
    {
     "data": {
      "text/plain": [
       "-1"
      ]
     },
     "execution_count": 12,
     "metadata": {},
     "output_type": "execute_result"
    }
   ],
   "source": [
    "# Cross Checking with minimum value present in the predicted values\n",
    "min(y_pred)"
   ]
  },
  {
   "cell_type": "markdown",
   "id": "fcdba6dc",
   "metadata": {},
   "source": [
    "### Visualisation of Data and Anomaly points using box plot"
   ]
  },
  {
   "cell_type": "code",
   "execution_count": 13,
   "id": "d6b6a1e0",
   "metadata": {},
   "outputs": [
    {
     "data": {
      "image/png": "[encoded data removed]",
      "text/plain": [
       "<Figure size 432x288 with 1 Axes>"
      ]
     },
     "metadata": {
      "needs_background": "light"
     },
     "output_type": "display_data"
    }
   ],
   "source": [
    "plt.boxplot(y_pred)\n",
    "plt.show()"
   ]
  },
  {
   "cell_type": "markdown",
   "id": "f3713c62",
   "metadata": {},
   "source": [
    "### <div class=\"alert alert-success\">Interpretation<div>\n",
    "### **We can see that the algorithm is successfully detecting the anomaly in the data when outliers has been added to it.**"
   ]
  },
  {
   "cell_type": "code",
   "execution_count": null,
   "id": "5addccdb",
   "metadata": {},
   "outputs": [],
   "source": []
  }
 ],
 "metadata": {
  "kernelspec": {
   "display_name": "Python 3 (ipykernel)",
   "language": "python",
   "name": "python3"
  },
  "language_info": {
   "codemirror_mode": {
    "name": "ipython",
    "version": 3
   },
   "file_extension": ".py",
   "mimetype": "text/x-python",
   "name": "python",
   "nbconvert_exporter": "python",
   "pygments_lexer": "ipython3",
   "version": "3.9.12"
  }
 },
 "nbformat": 4,
 "nbformat_minor": 5
}
